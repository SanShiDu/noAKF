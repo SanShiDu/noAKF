{
  "nbformat": 4,
  "nbformat_minor": 0,
  "metadata": {
    "colab": {
      "provenance": [],
      "authorship_tag": "ABX9TyNp8FiXH9rB7TPC7exMMEDS",
      "include_colab_link": true
    },
    "kernelspec": {
      "name": "python3",
      "display_name": "Python 3"
    },
    "language_info": {
      "name": "python"
    }
  },
  "cells": [
    {
      "cell_type": "markdown",
      "metadata": {
        "id": "view-in-github",
        "colab_type": "text"
      },
      "source": [
        "<a href=\"https://colab.research.google.com/github/SanShiDu/noAKF/blob/main/HW2__ClinicalBERT_.ipynb\" target=\"_parent\"><img src=\"https://colab.research.google.com/assets/colab-badge.svg\" alt=\"Open In Colab\"/></a>"
      ]
    },
    {
      "cell_type": "code",
      "execution_count": null,
      "metadata": {
        "id": "ZuamxN3GBn5s"
      },
      "outputs": [],
      "source": [
        "#mount google drive\n",
        "from google.colab import drive\n",
        "drive.mount('/content/drive')"
      ]
    },
    {
      "cell_type": "code",
      "source": [
        "import torch\n",
        "import torch.nn as nn\n",
        "from torch.utils.data import Dataset, DataLoader\n",
        "import numpy as np\n",
        "import pandas as pd\n",
        "from transformers import AutoTokenizer, AutoModel\n",
        "# Use a pipeline as a high-level helper\n",
        "from transformers import pipeline\n"
      ],
      "metadata": {
        "id": "O4Y7YrBbCLtr"
      },
      "execution_count": null,
      "outputs": []
    },
    {
      "cell_type": "code",
      "source": [
        "file_path_note = '/content/drive/MyDrive/ColabData/HW2/Dynamic_noteP.csv'\n",
        "note_DF = pd.read_csv(file_path_note)"
      ],
      "metadata": {
        "id": "ZOXRKD9JCU_A"
      },
      "execution_count": null,
      "outputs": []
    },
    {
      "cell_type": "code",
      "source": [
        "tokenizer = AutoTokenizer.from_pretrained(\"medicalai/ClinicalBERT\")\n",
        "model = AutoModel.from_pretrained(\"medicalai/ClinicalBERT\")\n",
        "\n",
        "# use the GPU\n",
        "device = torch.device(\"cuda\" if torch.cuda.is_available() else \"cpu\")\n",
        "model.to(device)"
      ],
      "metadata": {
        "id": "0lsPKq9pCbQs"
      },
      "execution_count": null,
      "outputs": []
    },
    {
      "cell_type": "code",
      "source": [
        "def process_text(text):\n",
        "    # crop tokens exceeds 256 tokens\n",
        "    inputs = tokenizer(text, truncation=True, max_length=256, return_tensors=\"pt\").to(device)\n",
        "\n",
        "    input_ids = inputs[\"input_ids\"]\n",
        "    with torch.no_grad():\n",
        "        features = model(input_ids)[0].detach().cpu().numpy()\n",
        "\n",
        "    # take mean\n",
        "    pooled_features = np.mean(features, axis=1)\n",
        "    pooled_features_df = pd.DataFrame(pooled_features)\n",
        "\n",
        "    return pooled_features_df"
      ],
      "metadata": {
        "id": "pqLql_G0Cd5M"
      },
      "execution_count": null,
      "outputs": []
    },
    {
      "cell_type": "code",
      "source": [
        "features_list = []\n",
        "batch_size = 32  #batch size\n",
        "for i in range(0, len(note_DF[\"text\"]), batch_size):\n",
        "    batch_texts = note_DF[\"text\"][i:i+batch_size].tolist()\n",
        "    batch_features = [process_text(text) for text in batch_texts]\n",
        "    features_list.extend(batch_features)\n",
        "\n",
        "features_df = pd.concat(features_list, ignore_index=True)"
      ],
      "metadata": {
        "id": "YjhD-vqEC55c"
      },
      "execution_count": null,
      "outputs": []
    },
    {
      "cell_type": "code",
      "source": [
        "note_DF_output = pd.concat([note_DF.reset_index(drop=True), features_df.reset_index(drop=True)], axis=1)\n",
        "note_DF_output.to_csv('/content/drive/MyDrive/ColabData/HW2/note_features.csv', index=False)"
      ],
      "metadata": {
        "id": "KlwtF9PEDHGM"
      },
      "execution_count": null,
      "outputs": []
    }
  ]
}